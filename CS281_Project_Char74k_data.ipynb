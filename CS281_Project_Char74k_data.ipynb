{
  "nbformat": 4,
  "nbformat_minor": 0,
  "metadata": {
    "colab": {
      "name": "Char74k CS281 Project.ipynb",
      "provenance": [],
      "collapsed_sections": [],
      "machine_shape": "hm"
    },
    "kernelspec": {
      "name": "python3",
      "display_name": "Python 3"
    },
    "accelerator": "GPU"
  },
  "cells": [
    {
      "cell_type": "markdown",
      "metadata": {
        "id": "G7CFgbJPTk9z",
        "colab_type": "text"
      },
      "source": [
        "Install all necessary packages"
      ]
    },
    {
      "cell_type": "code",
      "metadata": {
        "id": "a5XoySFnL6hR",
        "colab_type": "code",
        "outputId": "f9f0bcae-9781-4a6d-c82d-0c0ad5c79966",
        "colab": {
          "base_uri": "https://localhost:8080/",
          "height": 535
        }
      },
      "source": [
        "!pip install ripser"
      ],
      "execution_count": 2,
      "outputs": [
        {
          "output_type": "stream",
          "text": [
            "Collecting ripser\n",
            "\u001b[?25l  Downloading https://files.pythonhosted.org/packages/4c/17/d5e898161eb8e3b1084419bfc04adbe87d15075daa8e236df72dbe75167e/ripser-0.4.1.tar.gz (79kB)\n",
            "\r\u001b[K     |████▏                           | 10kB 27.1MB/s eta 0:00:01\r\u001b[K     |████████▎                       | 20kB 1.7MB/s eta 0:00:01\r\u001b[K     |████████████▍                   | 30kB 2.6MB/s eta 0:00:01\r\u001b[K     |████████████████▌               | 40kB 1.7MB/s eta 0:00:01\r\u001b[K     |████████████████████▋           | 51kB 2.1MB/s eta 0:00:01\r\u001b[K     |████████████████████████▊       | 61kB 2.5MB/s eta 0:00:01\r\u001b[K     |████████████████████████████▉   | 71kB 2.9MB/s eta 0:00:01\r\u001b[K     |████████████████████████████████| 81kB 2.7MB/s \n",
            "\u001b[?25hRequirement already satisfied: Cython in /usr/local/lib/python3.6/dist-packages (from ripser) (0.29.14)\n",
            "Requirement already satisfied: numpy in /usr/local/lib/python3.6/dist-packages (from ripser) (1.17.4)\n",
            "Requirement already satisfied: scipy in /usr/local/lib/python3.6/dist-packages (from ripser) (1.3.3)\n",
            "Requirement already satisfied: scikit-learn in /usr/local/lib/python3.6/dist-packages (from ripser) (0.21.3)\n",
            "Collecting persim\n",
            "  Downloading https://files.pythonhosted.org/packages/71/4a/ac537e6743337b00a8b3ff8b0d967827d3b5cfd9afd3a0bd117f5809d4d2/persim-0.1.1-py3-none-any.whl\n",
            "Requirement already satisfied: joblib>=0.11 in /usr/local/lib/python3.6/dist-packages (from scikit-learn->ripser) (0.14.1)\n",
            "Collecting hopcroftkarp\n",
            "  Downloading https://files.pythonhosted.org/packages/6b/56/7b03eba3c43008c490c9d52e69ea5334b65955f66836eb4f1962f3b0d421/hopcroftkarp-1.2.5.tar.gz\n",
            "Requirement already satisfied: matplotlib in /usr/local/lib/python3.6/dist-packages (from persim->ripser) (3.1.2)\n",
            "Requirement already satisfied: python-dateutil>=2.1 in /usr/local/lib/python3.6/dist-packages (from matplotlib->persim->ripser) (2.6.1)\n",
            "Requirement already satisfied: pyparsing!=2.0.4,!=2.1.2,!=2.1.6,>=2.0.1 in /usr/local/lib/python3.6/dist-packages (from matplotlib->persim->ripser) (2.4.5)\n",
            "Requirement already satisfied: kiwisolver>=1.0.1 in /usr/local/lib/python3.6/dist-packages (from matplotlib->persim->ripser) (1.1.0)\n",
            "Requirement already satisfied: cycler>=0.10 in /usr/local/lib/python3.6/dist-packages (from matplotlib->persim->ripser) (0.10.0)\n",
            "Requirement already satisfied: six>=1.5 in /usr/local/lib/python3.6/dist-packages (from python-dateutil>=2.1->matplotlib->persim->ripser) (1.12.0)\n",
            "Requirement already satisfied: setuptools in /usr/local/lib/python3.6/dist-packages (from kiwisolver>=1.0.1->matplotlib->persim->ripser) (42.0.2)\n",
            "Building wheels for collected packages: ripser, hopcroftkarp\n",
            "  Building wheel for ripser (setup.py) ... \u001b[?25l\u001b[?25hdone\n",
            "  Created wheel for ripser: filename=ripser-0.4.1-cp36-cp36m-linux_x86_64.whl size=423274 sha256=487a50e4dc67f7939419a24d626e07935289a97520f5c490dae17dcde34f26b0\n",
            "  Stored in directory: /root/.cache/pip/wheels/d4/12/da/56d55c3af62ebd5e0684d521f3e58c1a85ac312502c9e2d47d\n",
            "  Building wheel for hopcroftkarp (setup.py) ... \u001b[?25l\u001b[?25hdone\n",
            "  Created wheel for hopcroftkarp: filename=hopcroftkarp-1.2.5-py2.py3-none-any.whl size=18091 sha256=4daec454797dfdef8b0e8c432c0138ee258cfd85cb849ab34223c09cc8162585\n",
            "  Stored in directory: /root/.cache/pip/wheels/2b/e1/c9/1993c7f7f114b7d3fb2d3e895e02157a7ebf554861e9e54e01\n",
            "Successfully built ripser hopcroftkarp\n",
            "Installing collected packages: hopcroftkarp, persim, ripser\n",
            "Successfully installed hopcroftkarp-1.2.5 persim-0.1.1 ripser-0.4.1\n"
          ],
          "name": "stdout"
        }
      ]
    },
    {
      "cell_type": "markdown",
      "metadata": {
        "id": "WeDVTgqBWRs-",
        "colab_type": "text"
      },
      "source": [
        "Import packages and check gpu availability"
      ]
    },
    {
      "cell_type": "code",
      "metadata": {
        "id": "be_5_vE58bcs",
        "colab_type": "code",
        "colab": {}
      },
      "source": [
        "# import PyTorch modules\n",
        "import torch\n",
        "import torch.nn as nn\n",
        "import torch.cuda as cuda\n",
        "import torch.optim as optim\n",
        "from torch.autograd import Variable\n",
        "from torch.nn import functional as F\n",
        "from torch.utils.data import DataLoader, TensorDataset, Dataset, WeightedRandomSampler, BatchSampler\n",
        "from torchvision import transforms\n",
        "from torchvision.datasets import ImageFolder\n",
        "# make sure that we only run with GPU hardware acceleration\n",
        "assert cuda.is_available()\n",
        "\n",
        "# import relevant image processing modules and functions\n",
        "from PIL import Image\n",
        "import imageio\n",
        "import cv2\n",
        "from google.colab.patches import cv2_imshow\n",
        "\n",
        "# import scientific computing\n",
        "import numpy as np\n",
        "import matplotlib.pyplot as plt\n",
        "from sklearn.metrics import f1_score\n",
        "from ripser import ripser\n",
        "from persim import plot_diagrams\n",
        "import math\n",
        "\n",
        "# import standard Python libraries\n",
        "import random\n",
        "import time\n",
        "import os\n",
        "import shutil\n",
        "from shutil import copyfile\n",
        "from collections import deque\n",
        "from glob import glob\n",
        "import pickle"
      ],
      "execution_count": 0,
      "outputs": []
    },
    {
      "cell_type": "markdown",
      "metadata": {
        "id": "TAREnHgWaLzl",
        "colab_type": "text"
      },
      "source": [
        "Add Char74k data to environment, downloaded from http://www.ee.surrey.ac.uk/CVSSP/demos/chars74k/"
      ]
    },
    {
      "cell_type": "code",
      "metadata": {
        "id": "iMQot4JU27nT",
        "colab_type": "code",
        "colab": {}
      },
      "source": [
        "if os.path.exists(\"English\"):\n",
        "    shutil.rmtree(\"English\")\n",
        "!tar -xvzf EnglishHnd-2.tgz"
      ],
      "execution_count": 0,
      "outputs": []
    },
    {
      "cell_type": "markdown",
      "metadata": {
        "id": "NxMILNrJD1fH",
        "colab_type": "text"
      },
      "source": [
        "Generate topological data from a file"
      ]
    },
    {
      "cell_type": "code",
      "metadata": {
        "id": "tStA-OjMD0cf",
        "colab_type": "code",
        "colab": {}
      },
      "source": [
        "def generate_point_cloud(filename, threshold = 0.005, plot = False):\n",
        "    # threshold is the probability that white pixel is converted to a point\n",
        "    image = cv2.imread(filename)\n",
        "    x_points, y_points, points = [], [], []\n",
        "    for i in range(900):\n",
        "        for j in range(900):\n",
        "            if image[i][j][0]==0:\n",
        "                rand = np.random.random()\n",
        "                if rand<threshold:\n",
        "                    x_points.append(i)\n",
        "                    y_points.append(j)\n",
        "                    points.append(np.array([i, j]))\n",
        "    if plot:\n",
        "        plt.scatter(x_points, y_points, marker = '+')\n",
        "        plt.show()\n",
        "    \n",
        "    return np.array(points).reshape(len(points), 2)\n",
        "\n",
        "def generate_data_from_file(file_name, dimension):\n",
        "    point_cloud = generate_point_cloud(file_name, plot = False)\n",
        "    diagrams = ripser(point_cloud)['dgms']\n",
        "    H0_points, H1_points = diagrams\n",
        "    diff = lambda x: x[1]-x[0]\n",
        "    H1_diffs = torch.Tensor([diff(point) for point in H1_points])  \n",
        "    adj_dimension = min(dimension, len(H1_diffs))\n",
        "    top_H1_diffs, indices = H1_diffs.topk(adj_dimension)\n",
        "    \n",
        "    return top_H1_diffs"
      ],
      "execution_count": 0,
      "outputs": []
    },
    {
      "cell_type": "markdown",
      "metadata": {
        "id": "32BsWgz2xuB_",
        "colab_type": "text"
      },
      "source": [
        "Save or load `.pkl` files."
      ]
    },
    {
      "cell_type": "code",
      "metadata": {
        "id": "iItHGar_h9f7",
        "colab_type": "code",
        "colab": {}
      },
      "source": [
        "# Load topology data from .pkl as list\n",
        "with open('topology_data.pkl', 'rb') as file:\n",
        "    topology_data = pickle.load(file)\n",
        "    \n",
        "# pad the vector with 0's\n",
        "processed_top_data = []\n",
        "for index, top_vector in topology_data:\n",
        "    padded = np.zeros(20, dtype=np.float32)\n",
        "    padded[:len(top_vector)] = top_vector\n",
        "    processed_top_data.append(padded)"
      ],
      "execution_count": 0,
      "outputs": []
    },
    {
      "cell_type": "code",
      "metadata": {
        "id": "6GuaN5eQ2P_j",
        "colab_type": "code",
        "colab": {}
      },
      "source": [
        "# Load char74k_preprocess\n",
        "with open('chars74k_preprocess.pkl', 'rb') as file:\n",
        "    char74k_preprocess = pickle.load(file)"
      ],
      "execution_count": 0,
      "outputs": []
    },
    {
      "cell_type": "code",
      "metadata": {
        "id": "KQMEZQ3bVTOt",
        "colab_type": "code",
        "outputId": "c0678b6a-cf64-4e3a-e69f-780265cef1a6",
        "colab": {
          "base_uri": "https://localhost:8080/",
          "height": 464
        }
      },
      "source": [
        "# inspect contents of list\n",
        "char74k_preprocess[:5]"
      ],
      "execution_count": 8,
      "outputs": [
        {
          "output_type": "execute_result",
          "data": {
            "text/plain": [
              "[('English/Hnd/Img/Sample001/img001-001.png',\n",
              "  tensor([211.0447,  14.3713,  13.1418,  12.1520,  12.0411,  11.8406,  11.7333,\n",
              "           11.6335,  10.8927,  10.0658,  10.0602,   9.1535,   8.7868,   8.6259,\n",
              "            8.5266,   8.1570,   8.0923,   7.5575,   7.3282,   7.2225]),\n",
              "  0),\n",
              " ('English/Hnd/Img/Sample001/img001-002.png',\n",
              "  tensor([164.9863,  15.1877,  15.0261,  13.5837,  12.5237,  12.3367,  11.1662,\n",
              "           11.1090,  10.9210,  10.0602,   9.7182,   9.5444,   8.5666,   8.1550,\n",
              "            8.1511,   7.9268,   7.3270,   6.9286,   6.6593,   6.6290]),\n",
              "  0),\n",
              " ('English/Hnd/Img/Sample001/img001-003.png',\n",
              "  tensor([371.8539,  14.7236,  13.2472,  13.0420,  12.4390,  11.7919,  11.6645,\n",
              "           10.9211,  10.2955,   9.9863,   9.7676,   7.7877,   7.5544,   7.1938,\n",
              "            7.1372,   7.0380,   6.9806,   6.5493,   6.1153,   5.9960]),\n",
              "  0),\n",
              " ('English/Hnd/Img/Sample001/img001-004.png',\n",
              "  tensor([108.1573,  15.1873,  12.0097,   9.1970,   8.4066,   8.3818,   8.3475,\n",
              "            6.6572,   6.0554,   5.9706,   5.4397,   5.3082,   4.9219,   4.9031,\n",
              "            4.5718,   3.9950,   3.2325,   3.1590,   3.1516,   2.7116]),\n",
              "  0),\n",
              " ('English/Hnd/Img/Sample001/img001-005.png',\n",
              "  tensor([144.0205,  18.1602,  16.7363,  11.3679,   8.7404,   8.3096,   6.6931,\n",
              "            6.3103,   5.9161,   5.4146,   4.4689,   4.3309,   3.2196,   3.1205,\n",
              "            3.0709,   2.9753,   2.8152,   2.7987,   2.6413,   2.4972]),\n",
              "  0)]"
            ]
          },
          "metadata": {
            "tags": []
          },
          "execution_count": 8
        }
      ]
    },
    {
      "cell_type": "markdown",
      "metadata": {
        "id": "EeeFXsZH84C2",
        "colab_type": "text"
      },
      "source": [
        "Define the data sets that we will use in our experiments.\n",
        "*    Character Dataset\n",
        " *   Images + labels\n",
        " *   Topological features + images + labels"
      ]
    },
    {
      "cell_type": "code",
      "metadata": {
        "id": "a2zkTPp3okeb",
        "colab_type": "code",
        "colab": {}
      },
      "source": [
        "MAX_HOLES = 10\n",
        "\n",
        "class ImageData(Dataset):\n",
        "    def __init__(self, image_file_locations, labels):\n",
        "        self.image_file_locations = image_file_locations\n",
        "        self.images = [Image.open(file) for file in image_file_locations]\n",
        "        self.images = [image.resize((200, 200)) for image in self.images]\n",
        "        self.image_np_arrays = [np.array(image, dtype=np.float32).transpose((2,0,1)) for image in self.images]\n",
        "        self.labels = labels\n",
        "\n",
        "    def __len__(self):\n",
        "        return len(self.labels)\n",
        "\n",
        "    def __getitem__(self, idx):\n",
        "        return self.image_np_arrays[idx], self.labels[idx]\n",
        "\n",
        "class TopologicalData(Dataset):\n",
        "    def __init__(self, topology_data, labels):\n",
        "        self.topology_data = topology_data\n",
        "        self.labels = labels\n",
        "\n",
        "    def __len__(self):\n",
        "        return len(self.labels)\n",
        "    \n",
        "    def __getitem__(self, idx):\n",
        "        return self.topology_data[idx], self.labels[idx]\n",
        "\n",
        "class ImageAndTopologicalData(Dataset):\n",
        "    def __init__(self, image_file_locations, topology_data, labels):\n",
        "        self.image_file_locations = image_file_locations\n",
        "        self.images = [Image.open(file) for file in image_file_locations]\n",
        "        self.images = [image.resize((200, 200)) for image in self.images]\n",
        "        self.image_np_arrays = [np.array(image, dtype=np.float32).transpose((2,0,1)) for image in self.images]\n",
        "        self.topology_data = topology_data\n",
        "        self.labels = labels\n",
        "\n",
        "    def __len__(self):\n",
        "        return len(self.labels)\n",
        "\n",
        "    def __getitem__(self, idx):\n",
        "        return (self.image_np_arrays[idx], self.topology_data[idx]), self.labels[idx]"
      ],
      "execution_count": 0,
      "outputs": []
    },
    {
      "cell_type": "code",
      "metadata": {
        "id": "U-u_jp5W4THP",
        "colab_type": "code",
        "colab": {}
      },
      "source": [
        "# Character Datasets\n",
        "char_files, char_top_data_raw, char_labels = zip(*char74k_preprocess)\n",
        "padded_top_data = []\n",
        "for top_vector in char_top_data_raw:\n",
        "    padded = np.zeros(20, dtype=np.float32)\n",
        "    padded[:len(top_vector)] = top_vector\n",
        "    padded_top_data.append(padded)\n",
        "\n",
        "char_image_data = ImageData(char_files, char_labels)\n",
        "char_image_and_topological_data = ImageAndTopologicalData(char_files, padded_top_data, char_labels)"
      ],
      "execution_count": 0,
      "outputs": []
    },
    {
      "cell_type": "code",
      "metadata": {
        "id": "11XCWjxpJ-F8",
        "colab_type": "code",
        "colab": {}
      },
      "source": [
        "indices = list(range(len(char_labels)))\n",
        "np.random.shuffle(indices)\n",
        "file_label_pairs = np.array(list(zip(char_files, char_labels)))\n",
        "train, valid, test = file_label_pairs[: 341*7], file_label_pairs[341*7: 341*8], file_label_pairs[341*8:]\n",
        "with open('file_label_test_pairs.pkl', 'wb') as file:\n",
        "    pickle.dump(test, file)"
      ],
      "execution_count": 0,
      "outputs": []
    },
    {
      "cell_type": "markdown",
      "metadata": {
        "id": "m_D0L2Agdcew",
        "colab_type": "text"
      },
      "source": [
        "Define the functions that we will use to initialize the DataLoader's that we will use for our experiments. Make sure that the data sets have been initialized in the previous cell."
      ]
    },
    {
      "cell_type": "code",
      "metadata": {
        "id": "rhEbMnNTzXdA",
        "colab_type": "code",
        "colab": {}
      },
      "source": [
        "bs = 64 # may need to be adjusted depending on GPU size\n",
        "\n",
        "def get_stratified_sampler(data):\n",
        "    labels = [label for _, label in data]\n",
        "    frequencies = np.bincount(labels)\n",
        "    weights = [1/frequencies[label] for label in labels]\n",
        "    return WeightedRandomSampler(weights, len(weights), replacement=True)\n",
        "\n",
        "def get_data_loaders(data, split=(7000, 1000, 2000)):\n",
        "    train, validation, test = torch.utils.data.random_split(data, split)\n",
        "    train_loader = DataLoader(train, sampler=get_stratified_sampler(train), batch_size=bs)\n",
        "    validation_loader = DataLoader(validation, sampler=get_stratified_sampler(validation), batch_size=bs)\n",
        "    test_loader = DataLoader(test, sampler=get_stratified_sampler(test), batch_size=bs)\n",
        "    return train_loader, validation_loader, test_loader\n"
      ],
      "execution_count": 0,
      "outputs": []
    },
    {
      "cell_type": "markdown",
      "metadata": {
        "id": "pypD74xfd5Oa",
        "colab_type": "text"
      },
      "source": [
        "Define the Neural Network structures that we will use for our experiments.\n",
        "These include\n",
        "\n",
        "*   Vanilla Convolutional Neural Network\n",
        "*   Convolutional Neural Network with OrdinalRegression Layer with pre-determined thresholds\n",
        "*   Convolutional Neural Network with OrdinalRegression Layer with trainable thresholds\n",
        "*   Sparse single-layer network with sigmoid activation (for inputting homological data)\n",
        "\n"
      ]
    },
    {
      "cell_type": "code",
      "metadata": {
        "id": "FP7hse07-QeQ",
        "colab_type": "code",
        "colab": {}
      },
      "source": [
        "# baseline model, one-layer convnet\n",
        "class ConvNet(torch.nn.Module):\n",
        "\n",
        "    # batch shape for input x is (bs, img_size, img_size)\n",
        "    \n",
        "    def __init__(self, conv_dropout=0.0, fc_dropout=0.0, num_labels=11):\n",
        "        super(ConvNet, self).__init__()\n",
        "        self.conv_block = ConvBlock(output_size=num_labels, conv_dropout=conv_dropout, fc_dropout=fc_dropout)\n",
        "        self.softmax = nn.Softmax(dim=1)\n",
        "        \n",
        "    def forward(self, x, inference=False):\n",
        "        x = self.conv_block(x)\n",
        "\n",
        "        # We handle training and inference separately, see documentation for CrossEntropyLoss\n",
        "        # https://pytorch.org/docs/stable/nn.html#torch.nn.CrossEntropyLoss\n",
        "        if inference:\n",
        "            x = self.softmax(x)\n",
        "            return x\n",
        "        else:\n",
        "            return x\n",
        "\n",
        "class ConvBlock(nn.Module):\n",
        "    def __init__(self, conv_dropout=0.2, fc_dropout=0.2, output_size=10):\n",
        "        super(ConvBlock, self).__init__()\n",
        "                \n",
        "        self.conv = nn.Conv2d(3, 1, kernel_size=3, stride=1)\n",
        "        self.pool = nn.MaxPool2d(kernel_size=2)\n",
        "        self.conv2 = nn.Conv2d(1, 3, kernel_size=3, stride=1)\n",
        "        self.pool2 = nn.MaxPool2d(kernel_size=2)\n",
        "        self.conv_dropout = nn.Dropout2d(p=conv_dropout)\n",
        "        self.conv3 = nn.Conv2d(3, 3, kernel_size=3, stride=1)\n",
        "        self.pool3 = nn.MaxPool2d(kernel_size=2)\n",
        "        self.conv4 = nn.Conv2d(3, 3, kernel_size=3, stride=1)\n",
        "        self.pool4 = nn.MaxPool2d(kernel_size=2)\n",
        "        self.fc1 = nn.Linear(300, 100)\n",
        "        self.dropout = nn.Dropout(p=fc_dropout)\n",
        "        self.fc2 = nn.Linear(100, 80)\n",
        "        self.dropout2 = nn.Dropout(p=fc_dropout)\n",
        "        self.fc3 = nn.Linear(80, 60)\n",
        "        self.fc4 = nn.Linear(60, output_size)\n",
        "\n",
        "    def forward(self, x, inference=False):\n",
        "        \n",
        "        # Computes activation of the first convolution\n",
        "        # Size changes from (bs, img_size, img_size) to (cnn_output, img_size, img_size)\n",
        "        x = F.relu(self.conv(x))\n",
        "        x = self.pool(x)\n",
        "        x = F.relu(self.conv2(x))\n",
        "        x = self.pool2(x)\n",
        "        x = self.conv_dropout(x)\n",
        "        x = F.relu(self.conv3(x))\n",
        "        x = self.pool3(x)\n",
        "        x = F.relu(self.conv4(x))\n",
        "        x = self.pool4(x)\n",
        "        x = x.view(x.shape[0], -1)\n",
        "        x = F.relu(self.fc1(x))\n",
        "        x = self.dropout(x)\n",
        "        x = F.relu(self.fc2(x))\n",
        "        x = self.dropout2(x)\n",
        "        x = F.relu(self.fc3(x))\n",
        "        x = self.fc4(x)\n",
        "        return x"
      ],
      "execution_count": 0,
      "outputs": []
    },
    {
      "cell_type": "code",
      "metadata": {
        "id": "hON6YEUuqn18",
        "colab_type": "code",
        "colab": {}
      },
      "source": [
        "class OrdinalRegressionLayer(nn.Module):\n",
        "    \"\"\"\n",
        "    Expected input shape: (batch_size, 1)\n",
        "    Expected output shape: (batch_size, num_labels)\n",
        "\n",
        "    Assume that we are running on cuda\n",
        "    \"\"\"\n",
        "    def __init__(self, num_labels=10, trainable=False):\n",
        "        self.num_labels = num_labels\n",
        "        super(OrdinalRegressionLayer, self).__init__()\n",
        "        self.register_buffer(\"partition\", torch.zeros(num_labels + 1))\n",
        "        cutoffs = nn.Parameter(torch.Tensor(np.linspace(start=0, stop=10, num=self.num_labels - 1)))\n",
        "        self.register_parameter(\"cutoffs\", cutoffs)\n",
        "        self.cutoffs.requires_grad = trainable\n",
        "        self.partition[1: -1] = self.cutoffs\n",
        "        self.partition[0] = -float(\"inf\")\n",
        "        self.partition[-1] = float(\"inf\")\n",
        "        self.register_buffer(\"left_tensor\", self.partition[:-1])\n",
        "        self.register_buffer(\"right_tensor\", self.partition[1:])\n",
        "\n",
        "        \n",
        "    def forward(self, x):\n",
        "        # array broadcasting handles adding tensors of shape (batch_size, num_labels) and (batch_size, 1)\n",
        "        prob1 = torch.sigmoid(self.right_tensor - x)\n",
        "        prob2 = torch.sigmoid(self.left_tensor - x)\n",
        "        return prob1 - prob2\n",
        "    \n",
        "    def extra_repr(self):\n",
        "        return 'outputs={}'.format(self.num_labels)\n",
        "\n",
        "# baseline model, one-layer convnet\n",
        "class OrdinalConvNet(nn.Module):\n",
        "    # batch shape for input x is (bs, img_size, img_size)\n",
        "    def __init__(self, conv_dropout=0.0, fc_dropout=0.0, num_labels=10, trainable_ordinal_thresholds=False):\n",
        "        super(OrdinalConvNet, self).__init__()\n",
        "        self.conv_block = ConvBlock(output_size=num_labels)\n",
        "        self.fc = nn.Linear(num_labels, 1)\n",
        "        self.ordinal_regression = OrdinalRegressionLayer(num_labels=num_labels, trainable=trainable_ordinal_thresholds)\n",
        "        \n",
        "    def forward(self, x, inference=False):\n",
        "        \n",
        "        # Computes activation of the first convolution\n",
        "        # Size changes from (bs, img_size, img_size) to (cnn_output, img_size, img_size)\n",
        "        x = self.conv_block(x)\n",
        "        x = self.fc(x)\n",
        "        x = self.ordinal_regression(x)\n",
        "        # We handle training and inference separately because NLLLoss expects log-probabilities, see documentation\n",
        "        # https://pytorch.org/docs/stable/nn.html#torch.nn.NLLLoss\n",
        "        if inference:\n",
        "            return x\n",
        "        else:\n",
        "            x = torch.log(x)\n",
        "            return x"
      ],
      "execution_count": 0,
      "outputs": []
    },
    {
      "cell_type": "code",
      "metadata": {
        "id": "9ZMa_MYPUMqx",
        "colab_type": "code",
        "outputId": "71d3c337-4ecd-4247-9ce4-a82f63662514",
        "colab": {
          "base_uri": "https://localhost:8080/",
          "height": 106
        }
      },
      "source": [
        "class SparseLinear(nn.Module):\n",
        "    def __init__(self, input_size, single_scaling=True):\n",
        "        self.input_size = input_size\n",
        "        super(SparseLinear, self).__init__()\n",
        "        weights = nn.Parameter(torch.Tensor(1 if single_scaling else self.input_size).float())\n",
        "        self.register_parameter(\"weights\", weights)\n",
        "        self.register_parameter(\"bias\", nn.Parameter(torch.Tensor(1).float()))\n",
        "        nn.init.normal_(self.weights.data, 1, 1/self.input_size)\n",
        "        nn.init.normal_(self.bias.data, 0, 1)\n",
        "    def forward(self, x):\n",
        "        return x * self.weights + self.bias\n",
        "    \n",
        "    def extra_repr(self):\n",
        "        return 'features={}'.format(self.input_size)\n",
        "        \n",
        "\n",
        "class OrdinalTopNet(torch.nn.Module):\n",
        "    def __init__(self, num_labels=10, trainable_ordinal_thresholds=False):\n",
        "        super(OrdinalTopNet, self).__init__()\n",
        "        self.sparse_linear = SparseLinear(input_size=20)\n",
        "        self.fc = nn.Linear(20, 1)\n",
        "        nn.init.normal_(self.fc.weight.data, mean=0.5, std=1/20)\n",
        "        self.ordinal_regression = OrdinalRegressionLayer(num_labels=num_labels, trainable=trainable_ordinal_thresholds)\n",
        "\n",
        "    def forward(self, x, inference=False):\n",
        "        # Use broadcasting to multiply Tensors of size (batch_size, 20) and (20,)\n",
        "        x = torch.sigmoid(self.sparse_linear(x))\n",
        "        x = self.fc(x)\n",
        "        x = self.ordinal_regression(x)\n",
        "        # We handle training and inference separately because NLLLoss expects log-probabilities, see documentation\n",
        "        # https://pytorch.org/docs/stable/nn.html#torch.nn.NLLLoss\n",
        "        if inference:\n",
        "            return x\n",
        "        else:\n",
        "            x = torch.log(x)\n",
        "            return x\n",
        "    def extr_reptr(self):\n",
        "        return 'num_labels={}'.format(num_labels)\n",
        "\n",
        "OrdinalTopNet()"
      ],
      "execution_count": 0,
      "outputs": [
        {
          "output_type": "execute_result",
          "data": {
            "text/plain": [
              "OrdinalTopNet(\n",
              "  (sparse_linear): SparseLinear(features=20)\n",
              "  (fc): Linear(in_features=20, out_features=1, bias=True)\n",
              "  (ordinal_regression): OrdinalRegressionLayer(outputs=10)\n",
              ")"
            ]
          },
          "metadata": {
            "tags": []
          },
          "execution_count": 177
        }
      ]
    },
    {
      "cell_type": "code",
      "metadata": {
        "id": "KiU8oGyyUesu",
        "colab_type": "code",
        "outputId": "905878dd-3cf2-40f8-ce82-d11699244e91",
        "colab": {
          "base_uri": "https://localhost:8080/",
          "height": 446
        }
      },
      "source": [
        "class TopConvNet(nn.Module):\n",
        "    # batch shape for input x is (bs, img_size, img_size)\n",
        "    def __init__(self, conv_output_size=1, output_size=10, add_softmax=False, conv_dropout=0.2, fc_dropout=0.2, include_fcc2=False):\n",
        "        super(TopConvNet, self).__init__()\n",
        "        self.conv_block = ConvBlock(output_size=conv_output_size, conv_dropout=conv_dropout, fc_dropout=fc_dropout)\n",
        "        self.sparse_linear = SparseLinear(20)\n",
        "        self.fcc = nn.Linear(conv_output_size + 20, output_size)\n",
        "        self.include_fcc2 = include_fcc2\n",
        "        if self.include_fcc2:\n",
        "            self.fcc2 = nn.Linear(output_size, output_size)\n",
        "        self.add_softmax = add_softmax\n",
        "        if self.add_softmax:\n",
        "            self.softmax = nn.Softmax(dim=1)\n",
        "       \n",
        "    def forward(self, inputs):\n",
        "        x, y = inputs\n",
        "        x = self.conv_block(x)\n",
        "        y = torch.sigmoid(self.sparse_linear(y))\n",
        "\n",
        "        z = torch.cat([x, y], dim=1)\n",
        "        z = self.fcc(z)\n",
        "        if self.include_fcc2:\n",
        "            z = self.fcc2(z)\n",
        "        if self.add_softmax:\n",
        "            z = self.softmax(z)\n",
        "        return z\n",
        "\n",
        "class OrdinalTopConvNet(nn.Module):\n",
        "    def __init__(self, num_labels=10, trainable_ordinal_thresholds=False):\n",
        "        super(OrdinalTopConvNet, self).__init__()\n",
        "        self.top_conv_net = TopConvNet(conv_output_size=num_labels, output_size=num_labels)\n",
        "        self.ordinal_regression = OrdinalRegressionLayer(num_labels=num_labels)\n",
        "    def forward(self, inputs, inference=False):\n",
        "        z = self.top_conv_net(inputs)\n",
        "        z = self.ordinal_regression(z)\n",
        "        if inference:\n",
        "            return z\n",
        "        else:\n",
        "            z = torch.log(z)\n",
        "            return z\n",
        "OrdinalTopConvNet()"
      ],
      "execution_count": 0,
      "outputs": [
        {
          "output_type": "execute_result",
          "data": {
            "text/plain": [
              "OrdinalTopConvNet(\n",
              "  (top_conv_net): TopConvNet(\n",
              "    (conv_block): ConvBlock(\n",
              "      (conv): Conv2d(3, 1, kernel_size=(3, 3), stride=(1, 1))\n",
              "      (pool): MaxPool2d(kernel_size=2, stride=2, padding=0, dilation=1, ceil_mode=False)\n",
              "      (conv2): Conv2d(1, 3, kernel_size=(3, 3), stride=(1, 1))\n",
              "      (pool2): MaxPool2d(kernel_size=2, stride=2, padding=0, dilation=1, ceil_mode=False)\n",
              "      (conv_dropout): Dropout2d(p=0.2, inplace=False)\n",
              "      (conv3): Conv2d(3, 3, kernel_size=(3, 3), stride=(1, 1))\n",
              "      (pool3): MaxPool2d(kernel_size=2, stride=2, padding=0, dilation=1, ceil_mode=False)\n",
              "      (conv4): Conv2d(3, 3, kernel_size=(3, 3), stride=(1, 1))\n",
              "      (pool4): MaxPool2d(kernel_size=2, stride=2, padding=0, dilation=1, ceil_mode=False)\n",
              "      (fc1): Linear(in_features=300, out_features=100, bias=True)\n",
              "      (dropout): Dropout(p=0.2, inplace=False)\n",
              "      (fc2): Linear(in_features=100, out_features=80, bias=True)\n",
              "      (dropout2): Dropout(p=0.2, inplace=False)\n",
              "      (fc3): Linear(in_features=80, out_features=60, bias=True)\n",
              "      (fc4): Linear(in_features=60, out_features=10, bias=True)\n",
              "    )\n",
              "    (sparse_linear): SparseLinear(features=20)\n",
              "    (fcc): Linear(in_features=30, out_features=10, bias=True)\n",
              "  )\n",
              "  (ordinal_regression): OrdinalRegressionLayer(outputs=10)\n",
              ")"
            ]
          },
          "metadata": {
            "tags": []
          },
          "execution_count": 170
        }
      ]
    },
    {
      "cell_type": "markdown",
      "metadata": {
        "id": "54-1V9xajvNA",
        "colab_type": "text"
      },
      "source": [
        "Define the training and evaluation functions. Also define the plots."
      ]
    },
    {
      "cell_type": "code",
      "metadata": {
        "id": "alMhxbCpxn3-",
        "colab_type": "code",
        "colab": {}
      },
      "source": [
        "def train(model, optimizer, criterion, num_epochs, train_loader, validation_loader, save_model, cuda=True, report_every=10):\n",
        "    start = time.time()\n",
        "    if cuda:\n",
        "        model = model.cuda()\n",
        "    losses = {'validation': [], 'train': []}\n",
        "    best_validation_loss = float(\"inf\")\n",
        "    data_loaders = {'validation': validation_loader, 'train': train_loader}\n",
        "    try:\n",
        "        for epoch in range(num_epochs):\n",
        "            for phase in ['validation', 'train']:\n",
        "                if phase == 'train':\n",
        "                    model.train(True)\n",
        "                else:\n",
        "                    model.train(False)\n",
        "                epoch_loss = 0\n",
        "                batch_counter = 0\n",
        "                for inputs, labels in data_loaders[phase]:\n",
        "                    if cuda:\n",
        "                        labels = labels.cuda()\n",
        "                        if type(inputs) == list:\n",
        "                            inputs = [inpt.cuda() for inpt in inputs]\n",
        "                        else:\n",
        "                            inputs = inputs.cuda()\n",
        "                    output = model(inputs)\n",
        "                    loss = criterion(output, labels)\n",
        "                    optimizer.zero_grad()\n",
        "                    if phase == 'train':\n",
        "                        loss.backward(retain_graph=True)\n",
        "                        optimizer.step()\n",
        "                    # calculate epoch loss through running total\n",
        "                    epoch_loss += loss.item()\n",
        "                    batch_counter += 1\n",
        "                losses[phase].append(epoch_loss / batch_counter)\n",
        "                if phase == 'validation':\n",
        "                    if losses[phase][-1] < best_validation_loss:\n",
        "                        best_validation_loss = losses[phase][-1]\n",
        "                        torch.save(model.state_dict(), save_model)\n",
        "                if (epoch + 1)% report_every == 0:\n",
        "                    print(\"Epoch: \" + str(epoch + 1) + \",\" + \" {} loss: \".format(phase) + str(losses[phase][-1]))\n",
        "                    if phase == \"train\":\n",
        "                        print(\"Time elapsed: {} seconds\".format('%.3f'%(time.time() - start)))\n",
        "    except KeyboardInterrupt:\n",
        "        print(\"You have stopped the training early.\")\n",
        "    print(\"Best validation loss: {}\".format(best_validation_loss))\n",
        "    return losses\n",
        "\n",
        "\n",
        "def evaluate(model, best_model_file, test_loader, criterion):\n",
        "    model.eval()\n",
        "    model.cuda()\n",
        "    for model_version in ['final', 'best']:\n",
        "        test_labels = []\n",
        "        test_preds = []\n",
        "        test_loss = 0\n",
        "        if model_version == 'best':\n",
        "            model.load_state_dict(torch.load(best_model_file))\n",
        "        with torch.no_grad():\n",
        "            test_points_counter = 0\n",
        "            for inputs, labels in test_loader:\n",
        "                test_labels += list(labels)\n",
        "                if type(inputs) == list:\n",
        "                    inputs = [inpt.cuda() for inpt in inputs]\n",
        "                else:\n",
        "                    inputs = inputs.cuda()\n",
        "                labels = torch.LongTensor([int(label) for label in labels]).cuda()\n",
        "                output = model(inputs)\n",
        "                loss = criterion(output, labels)\n",
        "                test_loss += loss.item() # divide by normalizing constant\n",
        "                preds = output.argmax(dim=1) # check this, want to find largest probability from softmax layer\n",
        "                test_preds += list(preds)\n",
        "                test_points_counter += 1\n",
        "        accuracy = sum(np.asarray(test_labels) == np.asarray(test_preds)) / len(test_labels)\n",
        "        print(\"Test Loss: {} on {} model\".format(str(test_loss / test_points_counter), model_version))\n",
        "        print(\"Accuracy: {} on {} model\".format(str(accuracy), model_version))\n",
        "\n",
        "\n",
        "def plot(losses, title, length=25):\n",
        "    plt.figure(title)\n",
        "    plt.plot([i for i in range(1, length + 1)], losses[\"train\"][:length], label=\"Training Loss\")\n",
        "    plt.plot([i for i in range(1, length + 1)], losses[\"validation\"][:length], label=\"Validation Loss\")\n",
        "    plt.ylabel(\"Negative Log-Likelihood\")\n",
        "    plt.xlabel(\"Epochs\")\n",
        "    plt.title(title)\n",
        "    plt.legend()\n",
        "    plt.show()\n",
        "\n"
      ],
      "execution_count": 0,
      "outputs": []
    },
    {
      "cell_type": "markdown",
      "metadata": {
        "id": "PGaEJMVaZ-pT",
        "colab_type": "text"
      },
      "source": [
        "Initialize DataLoader's"
      ]
    },
    {
      "cell_type": "code",
      "metadata": {
        "id": "plrHElTMZ9mc",
        "colab_type": "code",
        "colab": {}
      },
      "source": [
        "# Toy Dataset\n",
        "split = [7000, 1000, 2000]\n",
        "image_train, image_validation, image_test = get_data_loaders(image_data, split=split)\n",
        "top_train, top_validation, top_test = get_data_loaders(topological_data, split=split)\n",
        "image_top_train, image_top_validation, image_and_top_test = get_data_loaders(image_and_topological_data, split=split)"
      ],
      "execution_count": 0,
      "outputs": []
    },
    {
      "cell_type": "code",
      "metadata": {
        "id": "OuKCg7i3_bRY",
        "colab_type": "code",
        "colab": {}
      },
      "source": [
        "# Character Dataset\n",
        "split = [341 * 7, 341, 341 * 2]\n",
        "char_image_train, char_image_validation, char_image_test = get_data_loaders(char_image_data, split=split)\n",
        "char_image_top_train, char_image_top_validation, char_image_top_test = get_data_loaders(char_image_and_topological_data, split=split)"
      ],
      "execution_count": 0,
      "outputs": []
    },
    {
      "cell_type": "markdown",
      "metadata": {
        "id": "cYdMCi9gnNZm",
        "colab_type": "text"
      },
      "source": [
        "Train the following models with the appropriate loss function"
      ]
    },
    {
      "cell_type": "code",
      "metadata": {
        "id": "PYz9OBiXySZa",
        "colab_type": "code",
        "outputId": "ad163cf8-8b5e-4c05-d2dd-8602edb633ad",
        "colab": {
          "base_uri": "https://localhost:8080/",
          "height": 1000
        }
      },
      "source": [
        "# Character Dataset Experiments\n",
        "\n",
        "criterion = nn.CrossEntropyLoss()\n",
        "char_conv_model = ConvNet(num_labels=62)\n",
        "optimizer = optim.Adam(char_conv_model.parameters(), lr=0.0001, weight_decay=0.001)\n",
        "char_conv_losses = train(char_conv_model, optimizer=optimizer, criterion=criterion, save_model=\"ConvNet_char.pkl\", num_epochs=50, \n",
        "      train_loader=char_image_train, validation_loader=char_image_validation, cuda=True, report_every=5)\n",
        "\n",
        "criterion = nn.CrossEntropyLoss()\n",
        "char_top_conv_model = TopConvNet(conv_output_size=62, output_size=62, include_fcc2=True)\n",
        "optimizer = optim.Adam(char_top_conv_model.parameters(), lr=0.0001, weight_decay=0.001)\n",
        "char_top_conv_losses = train(char_top_conv_model, optimizer=optimizer, criterion=criterion, save_model=\"TopConvNet_char.pkl\", num_epochs=100, \n",
        "      train_loader=char_image_top_train, validation_loader=char_image_top_validation, cuda=True, report_every=5)"
      ],
      "execution_count": 0,
      "outputs": [
        {
          "output_type": "stream",
          "text": [
            "Epoch: 5, validation loss: 3.997307618459066\n",
            "Epoch: 5, train loss: 3.9053435200139095\n",
            "Time elapsed: 6.526 seconds\n",
            "Epoch: 10, validation loss: 3.2072654565175376\n",
            "Epoch: 10, train loss: 2.804025643750241\n",
            "Time elapsed: 13.029 seconds\n",
            "Epoch: 15, validation loss: 2.9358203013738\n",
            "Epoch: 15, train loss: 2.2066584198098433\n",
            "Time elapsed: 19.462 seconds\n",
            "Epoch: 20, validation loss: 2.598851720492045\n",
            "Epoch: 20, train loss: 1.8961854577064514\n",
            "Time elapsed: 25.903 seconds\n",
            "Epoch: 25, validation loss: 2.68564240137736\n",
            "Epoch: 25, train loss: 1.6338336593226384\n",
            "Time elapsed: 32.345 seconds\n",
            "Epoch: 30, validation loss: 2.433336098988851\n",
            "Epoch: 30, train loss: 1.450849740128768\n",
            "Time elapsed: 38.777 seconds\n",
            "Epoch: 35, validation loss: 2.4441680908203125\n",
            "Epoch: 35, train loss: 1.2409601540941941\n",
            "Time elapsed: 45.222 seconds\n",
            "Epoch: 40, validation loss: 2.879784186681112\n",
            "Epoch: 40, train loss: 1.1164559816059314\n",
            "Time elapsed: 51.635 seconds\n",
            "Epoch: 45, validation loss: 2.645486275355021\n",
            "Epoch: 45, train loss: 1.0138338537592637\n",
            "Time elapsed: 58.067 seconds\n",
            "Epoch: 50, validation loss: 2.8148667414983115\n",
            "Epoch: 50, train loss: 0.8049158783335435\n",
            "Time elapsed: 64.526 seconds\n",
            "Best validation loss: 2.4086291790008545\n",
            "Epoch: 5, validation loss: 4.121276775995891\n",
            "Epoch: 5, train loss: 4.11630802405508\n",
            "Time elapsed: 6.630 seconds\n",
            "Epoch: 10, validation loss: 3.946340640385946\n",
            "Epoch: 10, train loss: 3.94343406275699\n",
            "Time elapsed: 13.244 seconds\n",
            "Epoch: 15, validation loss: 3.401277939478556\n",
            "Epoch: 15, train loss: 3.3271964600211694\n",
            "Time elapsed: 19.831 seconds\n",
            "Epoch: 20, validation loss: 2.7639924685160318\n",
            "Epoch: 20, train loss: 2.937432891444156\n",
            "Time elapsed: 26.400 seconds\n",
            "Epoch: 25, validation loss: 2.5382949113845825\n",
            "Epoch: 25, train loss: 2.5997805469914486\n",
            "Time elapsed: 32.992 seconds\n",
            "Epoch: 30, validation loss: 2.280351400375366\n",
            "Epoch: 30, train loss: 2.414754353071514\n",
            "Time elapsed: 39.580 seconds\n",
            "Epoch: 35, validation loss: 2.25432558854421\n",
            "Epoch: 35, train loss: 2.2547844742473804\n",
            "Time elapsed: 46.140 seconds\n",
            "Epoch: 40, validation loss: 2.073634843031565\n",
            "Epoch: 40, train loss: 2.0933686243860343\n",
            "Time elapsed: 52.709 seconds\n",
            "Epoch: 45, validation loss: 2.04593159755071\n",
            "Epoch: 45, train loss: 1.935086058942895\n",
            "Time elapsed: 59.259 seconds\n",
            "Epoch: 50, validation loss: 1.9579422275225322\n",
            "Epoch: 50, train loss: 1.8231076660909151\n",
            "Time elapsed: 65.861 seconds\n",
            "Epoch: 55, validation loss: 1.8905813694000244\n",
            "Epoch: 55, train loss: 1.7864342363257157\n",
            "Time elapsed: 72.404 seconds\n",
            "Epoch: 60, validation loss: 2.094829579194387\n",
            "Epoch: 60, train loss: 1.6842960401585227\n",
            "Time elapsed: 78.968 seconds\n",
            "Epoch: 65, validation loss: 1.8077873984972637\n",
            "Epoch: 65, train loss: 1.581619303477438\n",
            "Time elapsed: 85.529 seconds\n",
            "Epoch: 70, validation loss: 1.8317564725875854\n",
            "Epoch: 70, train loss: 1.5579212151075665\n",
            "Time elapsed: 92.099 seconds\n",
            "Epoch: 75, validation loss: 1.7203036149342854\n",
            "Epoch: 75, train loss: 1.4675529316851967\n",
            "Time elapsed: 98.678 seconds\n",
            "Epoch: 80, validation loss: 2.0856631795565286\n",
            "Epoch: 80, train loss: 1.4309374690055847\n",
            "Time elapsed: 105.237 seconds\n",
            "Epoch: 85, validation loss: 1.8188106417655945\n",
            "Epoch: 85, train loss: 1.341741260729338\n",
            "Time elapsed: 111.778 seconds\n",
            "Epoch: 90, validation loss: 1.6651384035746257\n",
            "Epoch: 90, train loss: 1.3463107927849418\n",
            "Time elapsed: 118.316 seconds\n",
            "Epoch: 95, validation loss: 1.9650756120681763\n",
            "Epoch: 95, train loss: 1.3125005050709373\n",
            "Time elapsed: 124.897 seconds\n",
            "Epoch: 100, validation loss: 1.7969117561976116\n",
            "Epoch: 100, train loss: 1.2490771397163993\n",
            "Time elapsed: 131.496 seconds\n",
            "Epoch: 105, validation loss: 1.7371028065681458\n",
            "Epoch: 105, train loss: 1.1792537711168591\n",
            "Time elapsed: 138.053 seconds\n",
            "Epoch: 110, validation loss: 1.7145375808080037\n",
            "Epoch: 110, train loss: 1.1684227789703168\n",
            "Time elapsed: 144.621 seconds\n",
            "Epoch: 115, validation loss: 1.550629734992981\n",
            "Epoch: 115, train loss: 1.1502050114305395\n",
            "Time elapsed: 151.180 seconds\n",
            "Epoch: 120, validation loss: 1.6990679105122883\n",
            "Epoch: 120, train loss: 1.1508388378118213\n",
            "Time elapsed: 157.738 seconds\n",
            "Epoch: 125, validation loss: 1.83577694495519\n",
            "Epoch: 125, train loss: 1.072890142076894\n",
            "Time elapsed: 164.285 seconds\n",
            "Epoch: 130, validation loss: 1.7179109851519268\n",
            "Epoch: 130, train loss: 1.0463257353556783\n",
            "Time elapsed: 170.849 seconds\n",
            "Epoch: 135, validation loss: 1.9798378348350525\n",
            "Epoch: 135, train loss: 1.023218876437137\n",
            "Time elapsed: 177.434 seconds\n",
            "Epoch: 140, validation loss: 2.0449437697728476\n",
            "Epoch: 140, train loss: 0.9906017341111836\n",
            "Time elapsed: 183.991 seconds\n",
            "Epoch: 145, validation loss: 1.8580443461736043\n",
            "Epoch: 145, train loss: 0.9261163426072974\n",
            "Time elapsed: 190.580 seconds\n",
            "Epoch: 150, validation loss: 1.7954083283742268\n",
            "Epoch: 150, train loss: 0.9494585269375851\n",
            "Time elapsed: 197.135 seconds\n",
            "Epoch: 155, validation loss: 1.5178059935569763\n",
            "Epoch: 155, train loss: 0.9439397752285004\n",
            "Time elapsed: 203.684 seconds\n",
            "Epoch: 160, validation loss: 1.739686409632365\n",
            "Epoch: 160, train loss: 0.9100870960637143\n",
            "Time elapsed: 210.228 seconds\n",
            "Epoch: 165, validation loss: 1.8687779506047566\n",
            "Epoch: 165, train loss: 0.9140979145702562\n",
            "Time elapsed: 216.773 seconds\n",
            "Epoch: 170, validation loss: 1.7421285112698872\n",
            "Epoch: 170, train loss: 0.807391023949573\n",
            "Time elapsed: 223.346 seconds\n",
            "Epoch: 175, validation loss: 1.8257118860880535\n",
            "Epoch: 175, train loss: 0.8314530174983176\n",
            "Time elapsed: 229.893 seconds\n",
            "Epoch: 180, validation loss: 2.0343832770983377\n",
            "Epoch: 180, train loss: 0.787926374297393\n",
            "Time elapsed: 236.446 seconds\n",
            "Epoch: 185, validation loss: 1.722948173681895\n",
            "Epoch: 185, train loss: 0.7906946653598234\n",
            "Time elapsed: 243.002 seconds\n",
            "Epoch: 190, validation loss: 1.9736302495002747\n",
            "Epoch: 190, train loss: 0.7986802521504854\n",
            "Time elapsed: 249.581 seconds\n",
            "Epoch: 195, validation loss: 1.9345318873723347\n",
            "Epoch: 195, train loss: 0.8181956135912946\n",
            "Time elapsed: 256.222 seconds\n",
            "Epoch: 200, validation loss: 1.9487087925275166\n",
            "Epoch: 200, train loss: 0.7758153975009918\n",
            "Time elapsed: 262.799 seconds\n",
            "Epoch: 205, validation loss: 2.055376172065735\n",
            "Epoch: 205, train loss: 0.7232215875073483\n",
            "Time elapsed: 269.347 seconds\n",
            "Epoch: 210, validation loss: 1.882016360759735\n",
            "Epoch: 210, train loss: 0.7719394219549078\n",
            "Time elapsed: 275.903 seconds\n",
            "Epoch: 215, validation loss: 1.8994396924972534\n",
            "Epoch: 215, train loss: 0.7434377293837698\n",
            "Time elapsed: 282.462 seconds\n",
            "Epoch: 220, validation loss: 2.0667020877202353\n",
            "Epoch: 220, train loss: 0.7286827117204666\n",
            "Time elapsed: 288.997 seconds\n",
            "Epoch: 225, validation loss: 1.7303386330604553\n",
            "Epoch: 225, train loss: 0.6874326177333531\n",
            "Time elapsed: 295.544 seconds\n",
            "Epoch: 230, validation loss: 1.864212950070699\n",
            "Epoch: 230, train loss: 0.7202485282170145\n",
            "Time elapsed: 302.111 seconds\n",
            "Epoch: 235, validation loss: 1.9398255944252014\n",
            "Epoch: 235, train loss: 0.664571076631546\n",
            "Time elapsed: 308.658 seconds\n",
            "Epoch: 240, validation loss: 1.8575359384218852\n",
            "Epoch: 240, train loss: 0.6282667737258109\n",
            "Time elapsed: 315.279 seconds\n",
            "Epoch: 245, validation loss: 1.9239037036895752\n",
            "Epoch: 245, train loss: 0.6561080374215779\n",
            "Time elapsed: 321.849 seconds\n",
            "Epoch: 250, validation loss: 1.8134905695915222\n",
            "Epoch: 250, train loss: 0.6097119191759511\n",
            "Time elapsed: 328.408 seconds\n",
            "Epoch: 255, validation loss: 2.13433704773585\n",
            "Epoch: 255, train loss: 0.6095691276224036\n",
            "Time elapsed: 334.973 seconds\n",
            "Epoch: 260, validation loss: 1.6513637105623882\n",
            "Epoch: 260, train loss: 0.6670189107719221\n",
            "Time elapsed: 341.542 seconds\n",
            "Epoch: 265, validation loss: 2.018955330053965\n",
            "Epoch: 265, train loss: 0.5910082922170037\n",
            "Time elapsed: 348.086 seconds\n",
            "Epoch: 270, validation loss: 1.7864872813224792\n",
            "Epoch: 270, train loss: 0.5762463949228588\n",
            "Time elapsed: 354.638 seconds\n",
            "Epoch: 275, validation loss: 1.824789047241211\n",
            "Epoch: 275, train loss: 0.6028022452404624\n",
            "Time elapsed: 361.177 seconds\n",
            "Epoch: 280, validation loss: 1.9687190453211467\n",
            "Epoch: 280, train loss: 0.5715166753844211\n",
            "Time elapsed: 367.718 seconds\n",
            "Epoch: 285, validation loss: 1.958758016427358\n",
            "Epoch: 285, train loss: 0.5123273279321822\n",
            "Time elapsed: 374.242 seconds\n",
            "Epoch: 290, validation loss: 2.9129387537638345\n",
            "Epoch: 290, train loss: 0.5635703935434944\n",
            "Time elapsed: 380.828 seconds\n",
            "Epoch: 295, validation loss: 2.3214176495869956\n",
            "Epoch: 295, train loss: 0.5566812353698831\n",
            "Time elapsed: 387.401 seconds\n",
            "Epoch: 300, validation loss: 2.040626049041748\n",
            "Epoch: 300, train loss: 0.5270494552035081\n",
            "Time elapsed: 393.950 seconds\n",
            "Best validation loss: 1.4759246706962585\n"
          ],
          "name": "stdout"
        }
      ]
    },
    {
      "cell_type": "code",
      "metadata": {
        "id": "O9c7LmRpFY07",
        "colab_type": "code",
        "outputId": "83b23285-afbb-49e4-ab60-5244479c14ee",
        "colab": {
          "base_uri": "https://localhost:8080/",
          "height": 573
        }
      },
      "source": [
        "plot(char_conv_losses, \"Train/Validation Loss for CNN on Chars74k\", length=50)\n",
        "plot(char_top_conv_losses, \"Train/Validation Loss for CNN + Topological features on Chars74k\", length=300)"
      ],
      "execution_count": 0,
      "outputs": [
        {
          "output_type": "display_data",
          "data": {
            "image/png": "[encoded data removed]",
            "text/plain": [
              "<Figure size 432x288 with 1 Axes>"
            ]
          },
          "metadata": {
            "tags": []
          }
        },
        {
          "output_type": "display_data",
          "data": {
            "image/png": "[encoded data removed]",
            "text/plain": [
              "<Figure size 432x288 with 1 Axes>"
            ]
          },
          "metadata": {
            "tags": []
          }
        }
      ]
    },
    {
      "cell_type": "code",
      "metadata": {
        "id": "-0pCj9_8KC0S",
        "colab_type": "code",
        "outputId": "5965c859-50a7-4401-a1ca-a59c4fb0ff51",
        "colab": {
          "base_uri": "https://localhost:8080/",
          "height": 196
        }
      },
      "source": [
        "print(\"Vanilla\")\n",
        "evaluate(char_conv_model, \"ConvNet_char.pkl\", char_image_test, nn.CrossEntropyLoss())\n",
        "print(\"TopConvNet\")\n",
        "evaluate(char_top_conv_model, \"TopConvNet_char.pkl\", char_image_top_test, nn.CrossEntropyLoss())"
      ],
      "execution_count": 0,
      "outputs": [
        {
          "output_type": "stream",
          "text": [
            "Vanilla\n",
            "Test Loss: 2.6641799319874155 on final model\n",
            "Accuracy: 0.38269794721407624 on final model\n",
            "Test Loss: 2.7329801429401743 on best model\n",
            "Accuracy: 0.3914956011730205 on best model\n",
            "TopConvNet\n",
            "Test Loss: 1.8030292337590998 on final model\n",
            "Accuracy: 0.5542521994134897 on final model\n",
            "Test Loss: 1.662741249257868 on best model\n",
            "Accuracy: 0.5762463343108505 on best model\n"
          ],
          "name": "stdout"
        }
      ]
    },
    {
      "cell_type": "code",
      "metadata": {
        "id": "jNi1Kv9IAG9t",
        "colab_type": "code",
        "outputId": "6e332f64-689e-48b0-d982-f26c12546ce8",
        "colab": {
          "base_uri": "https://localhost:8080/",
          "height": 88
        }
      },
      "source": [
        "# Shuffle the topological features and test\n",
        "test_indices = char_image_top_test.dataset.indices\n",
        "file_locs = char_image_and_topological_data.image_file_locations\n",
        "top_data = char_image_and_topological_data.topology_data\n",
        "labels = char_image_and_topological_data.labels\n",
        "test_file_locs = [file_locs[i] for i in test_indices]\n",
        "test_top_data = [np.random.normal(100000, 1000, size=20).astype(np.float32) for i in test_indices]\n",
        "test_labels = [labels[i] for i in test_indices]\n",
        "np.random.shuffle(test_top_data)\n",
        "\n",
        "shuffled_dataset = ImageAndTopologicalData(test_file_locs, test_top_data, test_labels)\n",
        "shuffled_dataloader = DataLoader(shuffled_dataset, sampler=get_stratified_sampler(shuffled_dataset), batch_size=bs)\n",
        "evaluate(char_top_conv_model, \"TopConvNet_char.pkl\", shuffled_dataloader, nn.CrossEntropyLoss())"
      ],
      "execution_count": 0,
      "outputs": [
        {
          "output_type": "stream",
          "text": [
            "Test Loss: 1.5741951357234607 on final model\n",
            "Accuracy: 0.6070381231671554 on final model\n",
            "Test Loss: 1.732188799164512 on best model\n",
            "Accuracy: 0.5615835777126099 on best model\n"
          ],
          "name": "stdout"
        }
      ]
    }
  ]
}